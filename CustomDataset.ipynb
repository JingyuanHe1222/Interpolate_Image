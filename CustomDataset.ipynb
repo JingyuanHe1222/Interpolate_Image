{
 "cells": [
  {
   "cell_type": "code",
   "execution_count": 1,
   "id": "4a5bde74-53b4-4b1b-a587-6260cff7896d",
   "metadata": {},
   "outputs": [
    {
     "name": "stderr",
     "output_type": "stream",
     "text": [
      "WARNING: pip is being invoked by an old script wrapper. This will fail in a future version of pip.\n",
      "Please see https://github.com/pypa/pip/issues/5599 for advice on fixing the underlying issue.\n",
      "To avoid this problem you can invoke Python with '-m pip' instead of running pip directly.\n",
      "\n",
      "[notice] A new release of pip is available: 23.1.2 -> 23.3.1\n",
      "[notice] To update, run: python.exe -m pip install --upgrade pip\n"
     ]
    },
    {
     "name": "stdout",
     "output_type": "stream",
     "text": [
      "Defaulting to user installation because normal site-packages is not writeable\n",
      "Requirement already satisfied: torch in c:\\users\\jingy\\appdata\\roaming\\python\\python38\\site-packages (1.13.0)\n",
      "Requirement already satisfied: typing-extensions in c:\\users\\jingy\\appdata\\roaming\\python\\python38\\site-packages (from torch) (4.4.0)\n"
     ]
    }
   ],
   "source": [
    "!pip install torch"
   ]
  },
  {
   "cell_type": "code",
   "execution_count": 2,
   "id": "bd0978ac-667c-4dad-a84c-738aa923bb61",
   "metadata": {
    "scrolled": true
   },
   "outputs": [
    {
     "name": "stdout",
     "output_type": "stream",
     "text": [
      "Defaulting to user installation because normal site-packages is not writeable\n",
      "Requirement already satisfied: torch in c:\\users\\jingy\\appdata\\roaming\\python\\python38\\site-packages (2.1.0)\n",
      "Collecting torchvision\n",
      "  Using cached torchvision-0.16.0-cp38-cp38-win_amd64.whl (1.3 MB)\n",
      "Requirement already satisfied: transformers in c:\\users\\jingy\\appdata\\roaming\\python\\python38\\site-packages (4.24.0)\n",
      "Requirement already satisfied: filelock in c:\\users\\jingy\\appdata\\roaming\\python\\python38\\site-packages (from torch) (3.8.0)\n",
      "Requirement already satisfied: typing-extensions in c:\\users\\jingy\\appdata\\roaming\\python\\python38\\site-packages (from torch) (4.4.0)\n",
      "Requirement already satisfied: sympy in c:\\users\\jingy\\appdata\\roaming\\python\\python38\\site-packages (from torch) (1.12)\n",
      "Requirement already satisfied: networkx in c:\\users\\jingy\\appdata\\roaming\\python\\python38\\site-packages (from torch) (3.1)\n",
      "Requirement already satisfied: jinja2 in c:\\users\\jingy\\appdata\\roaming\\python\\python38\\site-packages (from torch) (3.1.2)\n",
      "Requirement already satisfied: fsspec in c:\\users\\jingy\\appdata\\roaming\\python\\python38\\site-packages (from torch) (2023.6.0)\n",
      "Requirement already satisfied: numpy in c:\\users\\jingy\\appdata\\roaming\\python\\python38\\site-packages (from torchvision) (1.23.4)\n",
      "Requirement already satisfied: requests in c:\\users\\jingy\\appdata\\roaming\\python\\python38\\site-packages (from torchvision) (2.31.0)\n",
      "Requirement already satisfied: pillow!=8.3.*,>=5.3.0 in c:\\program files\\python38\\lib\\site-packages (from torchvision) (9.3.0)\n",
      "Requirement already satisfied: huggingface-hub<1.0,>=0.10.0 in c:\\users\\jingy\\appdata\\roaming\\python\\python38\\site-packages (from transformers) (0.17.1)\n",
      "Requirement already satisfied: packaging>=20.0 in c:\\users\\jingy\\appdata\\roaming\\python\\python38\\site-packages (from transformers) (21.3)\n",
      "Requirement already satisfied: pyyaml>=5.1 in c:\\users\\jingy\\appdata\\roaming\\python\\python38\\site-packages (from transformers) (6.0)\n",
      "Requirement already satisfied: regex!=2019.12.17 in c:\\users\\jingy\\appdata\\roaming\\python\\python38\\site-packages (from transformers) (2022.10.31)\n",
      "Requirement already satisfied: tokenizers!=0.11.3,<0.14,>=0.11.1 in c:\\users\\jingy\\appdata\\roaming\\python\\python38\\site-packages (from transformers) (0.13.2)\n",
      "Requirement already satisfied: tqdm>=4.27 in c:\\users\\jingy\\appdata\\roaming\\python\\python38\\site-packages (from transformers) (4.64.1)\n",
      "Requirement already satisfied: pyparsing!=3.0.5,>=2.0.2 in c:\\users\\jingy\\appdata\\roaming\\python\\python38\\site-packages (from packaging>=20.0->transformers) (3.0.9)\n",
      "Requirement already satisfied: colorama in c:\\users\\jingy\\appdata\\roaming\\python\\python38\\site-packages (from tqdm>=4.27->transformers) (0.4.5)\n",
      "Requirement already satisfied: MarkupSafe>=2.0 in c:\\users\\jingy\\appdata\\roaming\\python\\python38\\site-packages (from jinja2->torch) (2.1.1)\n",
      "Requirement already satisfied: charset-normalizer<4,>=2 in c:\\users\\jingy\\appdata\\roaming\\python\\python38\\site-packages (from requests->torchvision) (2.1.1)\n",
      "Requirement already satisfied: idna<4,>=2.5 in c:\\users\\jingy\\appdata\\roaming\\python\\python38\\site-packages (from requests->torchvision) (3.4)\n",
      "Requirement already satisfied: urllib3<3,>=1.21.1 in c:\\users\\jingy\\appdata\\roaming\\python\\python38\\site-packages (from requests->torchvision) (1.26.12)\n",
      "Requirement already satisfied: certifi>=2017.4.17 in c:\\users\\jingy\\appdata\\roaming\\python\\python38\\site-packages (from requests->torchvision) (2022.9.24)\n",
      "Requirement already satisfied: mpmath>=0.19 in c:\\users\\jingy\\appdata\\roaming\\python\\python38\\site-packages (from sympy->torch) (1.3.0)\n",
      "Installing collected packages: torchvision\n",
      "Successfully installed torchvision-0.16.0\n"
     ]
    },
    {
     "name": "stderr",
     "output_type": "stream",
     "text": [
      "WARNING: pip is being invoked by an old script wrapper. This will fail in a future version of pip.\n",
      "Please see https://github.com/pypa/pip/issues/5599 for advice on fixing the underlying issue.\n",
      "To avoid this problem you can invoke Python with '-m pip' instead of running pip directly.\n",
      "\n",
      "[notice] A new release of pip is available: 23.1.2 -> 23.3.1\n",
      "[notice] To update, run: python.exe -m pip install --upgrade pip\n"
     ]
    }
   ],
   "source": [
    "!pip install torch torchvision transformers"
   ]
  },
  {
   "cell_type": "code",
   "execution_count": 6,
   "id": "8211c304-4d48-4be1-bd95-aef105337322",
   "metadata": {},
   "outputs": [],
   "source": [
    "import os\n",
    "import torch\n",
    "import matplotlib.pyplot as plt\n",
    "from torch.utils.data import Dataset, DataLoader\n",
    "from PIL import Image\n",
    "from torchvision import transforms, utils\n",
    "import torchvision.datasets as datasets"
   ]
  },
  {
   "cell_type": "code",
   "execution_count": null,
   "id": "3f8eff10-1fe5-47f9-ae10-4f739a6cf9c1",
   "metadata": {},
   "outputs": [],
   "source": [
    "class CustomDataset(Dataset):\n",
    "\n",
    "    def __init__(self, root_dir, transform=None):\n",
    "\n",
    "        self.root_dir = root_dir\n",
    "        self.transform = transform\n",
    "\n",
    "        # dataset\n",
    "        self.image_dataset = []\n",
    "        self.class = []\n",
    "        self.caption = []\n",
    "\n",
    "        data_dir = os.path.join(self.root_dir, \"Easy\")\n",
    "        subset = datasets.ImageFolder(root=data_dir, transform=None)\n",
    "        for i in range(len(subset):\n",
    "            self.image_dataset.append(subset[i][0])\n",
    "            self.image_dataset.append(subset[i][1])\n",
    "            \n",
    "\n",
    "        for \n",
    "        self.image_labels = self.image_dataset.classes\n",
    "        \n",
    "\n",
    "    def __len__(self):\n",
    "        return len(self.landmarks_frame)\n",
    "\n",
    "    def __getitem__(self, idx):\n",
    "\n",
    "\n",
    "        if self.transform:\n",
    "            sample = self.transform(sample)\n",
    "\n",
    "        return sample"
   ]
  },
  {
   "cell_type": "code",
   "execution_count": 10,
   "id": "aa032c7e-a20c-4aa3-8198-ebcdcabad4d4",
   "metadata": {},
   "outputs": [],
   "source": [
    "data_dir = os.getcwd()"
   ]
  },
  {
   "cell_type": "code",
   "execution_count": 11,
   "id": "08dbaeac-73de-4fee-b6a3-718920b5b82a",
   "metadata": {},
   "outputs": [],
   "source": [
    "data_dir = os.path.join(data_dir, \"Easy\")"
   ]
  },
  {
   "cell_type": "code",
   "execution_count": 12,
   "id": "33621efe-b98b-44c9-8d52-6a8b5c784935",
   "metadata": {},
   "outputs": [],
   "source": [
    "subset = datasets.ImageFolder(root=data_dir, transform=None)"
   ]
  },
  {
   "cell_type": "code",
   "execution_count": 17,
   "id": "001e3127-c9fe-4d87-bb5e-941eb2977dc7",
   "metadata": {},
   "outputs": [
    {
     "data": {
      "text/plain": [
       "Dataset ImageFolder\n",
       "    Number of datapoints: 8\n",
       "    Root location: C:\\My Document\\CMU\\CMU Courses\\11-777\\Interpolate_Image\\Easy"
      ]
     },
     "execution_count": 17,
     "metadata": {},
     "output_type": "execute_result"
    }
   ],
   "source": [
    "subset"
   ]
  },
  {
   "cell_type": "code",
   "execution_count": 18,
   "id": "d10490a8-3829-47f1-a5ea-ff4df4b79653",
   "metadata": {},
   "outputs": [
    {
     "data": {
      "text/plain": [
       "['cat', 'dog']"
      ]
     },
     "execution_count": 18,
     "metadata": {},
     "output_type": "execute_result"
    }
   ],
   "source": [
    "subset.classes"
   ]
  },
  {
   "cell_type": "code",
   "execution_count": 19,
   "id": "d7de544c-c7d4-4a38-b802-ed745ba9e870",
   "metadata": {},
   "outputs": [
    {
     "data": {
      "text/plain": [
       "0"
      ]
     },
     "execution_count": 19,
     "metadata": {},
     "output_type": "execute_result"
    }
   ],
   "source": [
    "subset[0][1]"
   ]
  },
  {
   "cell_type": "code",
   "execution_count": null,
   "id": "9b629833-7fc5-4053-a537-d09864d56d54",
   "metadata": {},
   "outputs": [],
   "source": []
  }
 ],
 "metadata": {
  "kernelspec": {
   "display_name": "Python 3 (ipykernel)",
   "language": "python",
   "name": "python3"
  },
  "language_info": {
   "codemirror_mode": {
    "name": "ipython",
    "version": 3
   },
   "file_extension": ".py",
   "mimetype": "text/x-python",
   "name": "python",
   "nbconvert_exporter": "python",
   "pygments_lexer": "ipython3",
   "version": "3.8.2"
  }
 },
 "nbformat": 4,
 "nbformat_minor": 5
}
