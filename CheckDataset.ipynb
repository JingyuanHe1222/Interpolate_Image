{
 "cells": [
  {
   "cell_type": "code",
   "execution_count": 1,
   "id": "4a5bde74-53b4-4b1b-a587-6260cff7896d",
   "metadata": {},
   "outputs": [
    {
     "name": "stderr",
     "output_type": "stream",
     "text": [
      "WARNING: pip is being invoked by an old script wrapper. This will fail in a future version of pip.\n",
      "Please see https://github.com/pypa/pip/issues/5599 for advice on fixing the underlying issue.\n",
      "To avoid this problem you can invoke Python with '-m pip' instead of running pip directly.\n",
      "\n",
      "[notice] A new release of pip is available: 23.1.2 -> 23.3.1\n",
      "[notice] To update, run: python.exe -m pip install --upgrade pip\n"
     ]
    },
    {
     "name": "stdout",
     "output_type": "stream",
     "text": [
      "Defaulting to user installation because normal site-packages is not writeable\n",
      "Requirement already satisfied: torch in c:\\users\\jingy\\appdata\\roaming\\python\\python38\\site-packages (1.13.0)\n",
      "Requirement already satisfied: typing-extensions in c:\\users\\jingy\\appdata\\roaming\\python\\python38\\site-packages (from torch) (4.4.0)\n"
     ]
    }
   ],
   "source": [
    "!pip install torch"
   ]
  },
  {
   "cell_type": "code",
   "execution_count": 2,
   "id": "bd0978ac-667c-4dad-a84c-738aa923bb61",
   "metadata": {
    "scrolled": true
   },
   "outputs": [
    {
     "name": "stdout",
     "output_type": "stream",
     "text": [
      "Defaulting to user installation because normal site-packages is not writeable\n",
      "Requirement already satisfied: torch in c:\\users\\jingy\\appdata\\roaming\\python\\python38\\site-packages (2.1.0)\n",
      "Collecting torchvision\n",
      "  Using cached torchvision-0.16.0-cp38-cp38-win_amd64.whl (1.3 MB)\n",
      "Requirement already satisfied: transformers in c:\\users\\jingy\\appdata\\roaming\\python\\python38\\site-packages (4.24.0)\n",
      "Requirement already satisfied: filelock in c:\\users\\jingy\\appdata\\roaming\\python\\python38\\site-packages (from torch) (3.8.0)\n",
      "Requirement already satisfied: typing-extensions in c:\\users\\jingy\\appdata\\roaming\\python\\python38\\site-packages (from torch) (4.4.0)\n",
      "Requirement already satisfied: sympy in c:\\users\\jingy\\appdata\\roaming\\python\\python38\\site-packages (from torch) (1.12)\n",
      "Requirement already satisfied: networkx in c:\\users\\jingy\\appdata\\roaming\\python\\python38\\site-packages (from torch) (3.1)\n",
      "Requirement already satisfied: jinja2 in c:\\users\\jingy\\appdata\\roaming\\python\\python38\\site-packages (from torch) (3.1.2)\n",
      "Requirement already satisfied: fsspec in c:\\users\\jingy\\appdata\\roaming\\python\\python38\\site-packages (from torch) (2023.6.0)\n",
      "Requirement already satisfied: numpy in c:\\users\\jingy\\appdata\\roaming\\python\\python38\\site-packages (from torchvision) (1.23.4)\n",
      "Requirement already satisfied: requests in c:\\users\\jingy\\appdata\\roaming\\python\\python38\\site-packages (from torchvision) (2.31.0)\n",
      "Requirement already satisfied: pillow!=8.3.*,>=5.3.0 in c:\\program files\\python38\\lib\\site-packages (from torchvision) (9.3.0)\n",
      "Requirement already satisfied: huggingface-hub<1.0,>=0.10.0 in c:\\users\\jingy\\appdata\\roaming\\python\\python38\\site-packages (from transformers) (0.17.1)\n",
      "Requirement already satisfied: packaging>=20.0 in c:\\users\\jingy\\appdata\\roaming\\python\\python38\\site-packages (from transformers) (21.3)\n",
      "Requirement already satisfied: pyyaml>=5.1 in c:\\users\\jingy\\appdata\\roaming\\python\\python38\\site-packages (from transformers) (6.0)\n",
      "Requirement already satisfied: regex!=2019.12.17 in c:\\users\\jingy\\appdata\\roaming\\python\\python38\\site-packages (from transformers) (2022.10.31)\n",
      "Requirement already satisfied: tokenizers!=0.11.3,<0.14,>=0.11.1 in c:\\users\\jingy\\appdata\\roaming\\python\\python38\\site-packages (from transformers) (0.13.2)\n",
      "Requirement already satisfied: tqdm>=4.27 in c:\\users\\jingy\\appdata\\roaming\\python\\python38\\site-packages (from transformers) (4.64.1)\n",
      "Requirement already satisfied: pyparsing!=3.0.5,>=2.0.2 in c:\\users\\jingy\\appdata\\roaming\\python\\python38\\site-packages (from packaging>=20.0->transformers) (3.0.9)\n",
      "Requirement already satisfied: colorama in c:\\users\\jingy\\appdata\\roaming\\python\\python38\\site-packages (from tqdm>=4.27->transformers) (0.4.5)\n",
      "Requirement already satisfied: MarkupSafe>=2.0 in c:\\users\\jingy\\appdata\\roaming\\python\\python38\\site-packages (from jinja2->torch) (2.1.1)\n",
      "Requirement already satisfied: charset-normalizer<4,>=2 in c:\\users\\jingy\\appdata\\roaming\\python\\python38\\site-packages (from requests->torchvision) (2.1.1)\n",
      "Requirement already satisfied: idna<4,>=2.5 in c:\\users\\jingy\\appdata\\roaming\\python\\python38\\site-packages (from requests->torchvision) (3.4)\n",
      "Requirement already satisfied: urllib3<3,>=1.21.1 in c:\\users\\jingy\\appdata\\roaming\\python\\python38\\site-packages (from requests->torchvision) (1.26.12)\n",
      "Requirement already satisfied: certifi>=2017.4.17 in c:\\users\\jingy\\appdata\\roaming\\python\\python38\\site-packages (from requests->torchvision) (2022.9.24)\n",
      "Requirement already satisfied: mpmath>=0.19 in c:\\users\\jingy\\appdata\\roaming\\python\\python38\\site-packages (from sympy->torch) (1.3.0)\n",
      "Installing collected packages: torchvision\n",
      "Successfully installed torchvision-0.16.0\n"
     ]
    },
    {
     "name": "stderr",
     "output_type": "stream",
     "text": [
      "WARNING: pip is being invoked by an old script wrapper. This will fail in a future version of pip.\n",
      "Please see https://github.com/pypa/pip/issues/5599 for advice on fixing the underlying issue.\n",
      "To avoid this problem you can invoke Python with '-m pip' instead of running pip directly.\n",
      "\n",
      "[notice] A new release of pip is available: 23.1.2 -> 23.3.1\n",
      "[notice] To update, run: python.exe -m pip install --upgrade pip\n"
     ]
    }
   ],
   "source": [
    "!pip install torch torchvision transformers"
   ]
  },
  {
   "cell_type": "code",
   "execution_count": 1,
   "id": "8211c304-4d48-4be1-bd95-aef105337322",
   "metadata": {},
   "outputs": [
    {
     "name": "stderr",
     "output_type": "stream",
     "text": [
      "C:\\Users\\Jingy\\AppData\\Roaming\\Python\\Python38\\site-packages\\tqdm\\auto.py:22: TqdmWarning: IProgress not found. Please update jupyter and ipywidgets. See https://ipywidgets.readthedocs.io/en/stable/user_install.html\n",
      "  from .autonotebook import tqdm as notebook_tqdm\n"
     ]
    }
   ],
   "source": [
    "import os\n",
    "import torch\n",
    "import matplotlib.pyplot as plt\n",
    "from torch.utils.data import Dataset, DataLoader\n",
    "from PIL import Image\n",
    "from torchvision import transforms, utils\n",
    "import torchvision.datasets as datasets"
   ]
  },
  {
   "cell_type": "code",
   "execution_count": 44,
   "id": "3f8eff10-1fe5-47f9-ae10-4f739a6cf9c1",
   "metadata": {},
   "outputs": [],
   "source": [
    "class CustomDataset(Dataset):\n",
    "\n",
    "    def __init__(self, root_dir):\n",
    "\n",
    "        self.root_dir = root_dir\n",
    "\n",
    "        # dataset\n",
    "        self.image_dataset = []\n",
    "        self.classes = []\n",
    "        self.caption = []\n",
    "\n",
    "        for set in [\"Hard\", \"Mid\", \"Easy\"]:\n",
    "            data_file = os.path.join(self.root_dir, set, \"data.txt\")\n",
    "            with open(data_file, 'r') as f:\n",
    "                for line in f:\n",
    "                    info = line.split(',')\n",
    "                    self.image_dataset.append(info[0])\n",
    "                    self.classes.append(info[1])\n",
    "                    caption = info[2]\n",
    "                    if info[2][-1] == '\\n':\n",
    "                        caption = info[2][:-1]\n",
    "                    self.caption.append(caption) # get rid of \n",
    "        print(\"dataset built with\", len(self.classes), \"instances\")\n",
    "        print(\"get item will return: (img_path, img_class, img_caption)\")\n",
    "        \n",
    "\n",
    "    def __len__(self):\n",
    "        return len(self.image_dataset)\n",
    "\n",
    "    def __getitem__(self, idx):\n",
    "        return self.image_dataset[idx], self.classes[idx], self.caption[idx]"
   ]
  },
  {
   "cell_type": "code",
   "execution_count": 45,
   "id": "aa032c7e-a20c-4aa3-8198-ebcdcabad4d4",
   "metadata": {},
   "outputs": [],
   "source": [
    "data_dir = os.getcwd()"
   ]
  },
  {
   "cell_type": "code",
   "execution_count": 46,
   "id": "d7de544c-c7d4-4a38-b802-ed745ba9e870",
   "metadata": {},
   "outputs": [
    {
     "name": "stdout",
     "output_type": "stream",
     "text": [
      "C:\\My Document\\CMU\\CMU Courses\\11-777\\Interpolate_Image\\Hard\\data.txt\n",
      "C:\\My Document\\CMU\\CMU Courses\\11-777\\Interpolate_Image\\Mid\\data.txt\n",
      "C:\\My Document\\CMU\\CMU Courses\\11-777\\Interpolate_Image\\Easy\\data.txt\n",
      "dataset built with 16 instances\n",
      "get item will return: (img_path, img_class, img_caption)\n"
     ]
    }
   ],
   "source": [
    "dataset = CustomDataset(data_dir)"
   ]
  },
  {
   "cell_type": "code",
   "execution_count": 42,
   "id": "9b629833-7fc5-4053-a537-d09864d56d54",
   "metadata": {},
   "outputs": [
    {
     "name": "stdout",
     "output_type": "stream",
     "text": [
      "('dog_and_cat.jpg', 'cat', 'a brown-and-white dog and a grey cat')\n",
      "('sofa.jpg', 'sofa', 'a grey sofa')\n",
      "('starry_night.jpg', 'night', 'dark tree and a town under starry night')\n",
      "('woman_and_dog.jpg', 'dog', 'a woman is sitting next to a yellow dog in a golden forest')\n",
      "('backpack_1.jpg', 'backpack', 'a woman carrying a pink backpack')\n",
      "('backpack_2.jpg', 'backpack', 'a pink packpack')\n",
      "('cartoon_dog.jpg', 'dog', 'a cute cartoon dog')\n",
      "('crab.jpg', 'crab', 'a red crab')\n",
      "('plushie_1.jpg', 'plushie', 'a brown plushie sitting on the grass')\n",
      "('plushie_2.jpg', 'plushie', 'a brown plushie sitting in front of river')\n",
      "('rope.jpg', 'rope', 'a rope')\n",
      "('tree.jpg', 'tree', 'a golden tree')\n",
      "('dog_1.jpg', 'dog', 'a brown-and-white dog ')\n",
      "('dog_2.jpg', 'dog', 'a white dog')\n",
      "('cat_1.jpg', 'cat', 'a grey cat on a table in front of flowers')\n",
      "('cat_2', 'jpg', 'cat')\n"
     ]
    }
   ],
   "source": [
    "for i in range(len(dataset)):\n",
    "    print(dataset[i])"
   ]
  },
  {
   "cell_type": "code",
   "execution_count": 43,
   "id": "a83ae2c1-2b2e-458a-9ace-e5821dd047cd",
   "metadata": {},
   "outputs": [
    {
     "data": {
      "text/plain": [
       "16"
      ]
     },
     "execution_count": 43,
     "metadata": {},
     "output_type": "execute_result"
    }
   ],
   "source": [
    "len(dataset)"
   ]
  },
  {
   "cell_type": "code",
   "execution_count": null,
   "id": "e90e1f6c-a59b-4360-893b-c9fd300695f5",
   "metadata": {},
   "outputs": [],
   "source": []
  }
 ],
 "metadata": {
  "kernelspec": {
   "display_name": "Python 3 (ipykernel)",
   "language": "python",
   "name": "python3"
  },
  "language_info": {
   "codemirror_mode": {
    "name": "ipython",
    "version": 3
   },
   "file_extension": ".py",
   "mimetype": "text/x-python",
   "name": "python",
   "nbconvert_exporter": "python",
   "pygments_lexer": "ipython3",
   "version": "3.8.2"
  }
 },
 "nbformat": 4,
 "nbformat_minor": 5
}
